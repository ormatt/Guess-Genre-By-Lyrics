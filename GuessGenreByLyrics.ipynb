{
 "cells": [
  {
   "cell_type": "code",
   "execution_count": 4,
   "metadata": {
    "collapsed": false
   },
   "outputs": [],
   "source": [
    "#!/usr/bin/env python3\n",
    "from __future__ import absolute_import\n",
    "import pandas as pd\n",
    "import time\n",
    "\n",
    "import logging\n",
    "from utils.logger import logger\n",
    "from constants import DATA_PATH, DF_DUMP_NAME, CLF_DUMP_NAME, build_constants\n",
    "import train_and_test\n",
    "import model_pipeline\n",
    "import utils.clean_data\n",
    "import utils.persistence\n",
    "import utils.normalize_data\n",
    "import utils.get_data_subset"
   ]
  },
  {
   "cell_type": "code",
   "execution_count": 5,
   "metadata": {
    "collapsed": true
   },
   "outputs": [],
   "source": [
    "TARGET_COL = 'genre'\n",
    "SAMPLE_COL = 'lyrics'"
   ]
  },
  {
   "cell_type": "code",
   "execution_count": 6,
   "metadata": {
    "collapsed": false
   },
   "outputs": [
    {
     "name": "stderr",
     "output_type": "stream",
     "text": [
      "[2017-08-02 18:49:36,563] - [DEBUG] - [corpora build] - Executing function add_custom_corpus\n",
      "[2017-08-02 18:49:38,875] - [DEBUG] - [corpora build] - Added 1614144 more words. Total is 1614144\n",
      "[2017-08-02 18:49:38,875] - [DEBUG] - [corpora build] - Executing function add_nltk_words\n",
      "[2017-08-02 18:49:39,438] - [DEBUG] - [corpora build] - Added 209726 more words. Total is 1823870\n",
      "[2017-08-02 18:49:39,720] - [INFO] - [<ipython-input-6-1aaa3d1d4eef> <module>] - Started\n"
     ]
    }
   ],
   "source": [
    "start_time = time.time()\n",
    "logger.setLevel(logging.DEBUG)\n",
    "build_constants()\n",
    "logger.info(\"Started\")"
   ]
  },
  {
   "cell_type": "code",
   "execution_count": 7,
   "metadata": {
    "collapsed": false
   },
   "outputs": [
    {
     "name": "stderr",
     "output_type": "stream",
     "text": [
      "[2017-08-02 18:49:45,954] - [DEBUG] - [<ipython-input-7-942f9752e7af> <module>] - Loaded 66745 rows into df\n",
      "[2017-08-02 18:49:45,954] - [DEBUG] - [get_data_subset filter_rows_by_string] - Row count is 66745\n",
      "[2017-08-02 18:49:45,970] - [DEBUG] - [get_data_subset filter_rows_by_string] - Row count is 13425 (Filtered out 53320 rows)\n",
      "[2017-08-02 18:49:46,049] - [DEBUG] - [clean_data execute_cleaners] - Row count is 13425\n",
      "[2017-08-02 18:50:04,910] - [DEBUG] - [clean_data execute_cleaners] - Row count is 13425 (drop_by_language Cleaned 0 rows)\n",
      "[2017-08-02 18:50:04,910] - [DEBUG] - [clean_data execute_cleaners] - Row count is 13425\n",
      "[2017-08-02 18:50:04,926] - [DEBUG] - [clean_data execute_cleaners] - Row count is 13425 (drop_by_nas Cleaned 0 rows)\n",
      "[2017-08-02 18:50:04,926] - [DEBUG] - [clean_data execute_cleaners] - Row count is 13425\n",
      "[2017-08-02 18:50:05,051] - [DEBUG] - [clean_data execute_cleaners] - Row count is 13425 (drop_by_strings Cleaned 0 rows)\n",
      "[2017-08-02 18:50:05,051] - [DEBUG] - [clean_data execute_cleaners] - Row count is 13425\n",
      "[2017-08-02 18:50:10,579] - [DEBUG] - [clean_data execute_cleaners] - Row count is 13346 (drop_by_text_len Cleaned 79 rows)\n",
      "[2017-08-02 18:50:10,954] - [INFO] - [normalize_data normalize_genres] - Normalized data in column genre\n"
     ]
    }
   ],
   "source": [
    "df = pd.read_json(path_or_buf=DATA_PATH, orient='records', encoding=\"UTF8\")\n",
    "logger.debug(\"Loaded {} rows into df\".format(len(df)))\n",
    "\n",
    "df = utils.get_data_subset.crop(df, None, None)\n",
    "df = utils.get_data_subset.filter_rows_by_string(df,\n",
    "                                                 [TARGET_COL],\n",
    "                                                 ['Rock',\n",
    "                                                  'Hip Hop'])\n",
    "df = utils.clean_data.execute_cleaners(df)\n",
    "df = utils.normalize_data.normalize_genres(df, TARGET_COL)\n",
    "X, y = utils.get_data_subset.get_x_y(df, SAMPLE_COL, TARGET_COL)"
   ]
  },
  {
   "cell_type": "code",
   "execution_count": 8,
   "metadata": {
    "collapsed": false
   },
   "outputs": [
    {
     "name": "stderr",
     "output_type": "stream",
     "text": [
      "[2017-08-02 18:53:42,969] - [INFO] - [train_and_test train_and_dump] - Fitting and transforming the model\n",
      "[2017-08-02 18:53:42,969] - [INFO] - [base_feat_ext transform] - Extracting feature bad_words_ratio\n",
      "[2017-08-02 18:53:49,266] - [INFO] - [base_feat_ext transform] - Extracting feature inner_capital_letters_ratio\n",
      "[2017-08-02 18:53:56,954] - [INFO] - [base_feat_ext transform] - Extracting feature nature_words_ratio\n",
      "[2017-08-02 18:54:03,331] - [INFO] - [base_feat_ext transform] - Extracting feature negative_words_ratio\n",
      "[2017-08-02 18:54:09,736] - [INFO] - [base_feat_ext transform] - Extracting feature positive_words_ratio\n",
      "[2017-08-02 18:54:15,926] - [INFO] - [base_feat_ext transform] - Extracting feature single_quote_ratio\n",
      "[2017-08-02 18:54:16,035] - [INFO] - [base_feat_ext transform] - Extracting feature stanza_count\n",
      "[2017-08-02 18:54:16,160] - [INFO] - [base_feat_ext transform] - Extracting feature stanza_len_avg\n",
      "[2017-08-02 18:54:16,737] - [INFO] - [base_feat_ext transform] - Extracting feature text_len\n",
      "[2017-08-02 18:54:16,769] - [INFO] - [base_feat_ext transform] - Extracting feature word_count\n",
      "[2017-08-02 18:54:20,582] - [INFO] - [base_feat_ext transform] - Extracting feature word_len_avg\n",
      "[2017-08-02 18:54:25,755] - [INFO] - [base_feat_ext transform] - Extracting feature word_len_median\n",
      "[2017-08-02 18:54:31,348] - [INFO] - [base_feat_ext transform] - Extracting feature word_len_std\n",
      "[2017-08-02 18:54:37,115] - [INFO] - [base_feat_ext transform] - Extracting feature word_richness\n",
      "[2017-08-02 18:54:41,474] - [DEBUG] - [describe_data describe] - Type is: <type 'numpy.ndarray'>\n",
      "[2017-08-02 18:54:41,474] - [DEBUG] - [describe_data describe] - numpy ndarray shape is: (13346L, 14L)\n",
      "[2017-08-02 18:54:41,552] - [DEBUG] - [persistence dump] - Dumped obj with filename clf_fitted.pickle to disk\n",
      "[2017-08-02 18:54:41,569] - [INFO] - [<ipython-input-8-ddd1c83f92ec> <module>] - Finished in 305.01 seconds\n"
     ]
    }
   ],
   "source": [
    "clf = model_pipeline.get_pipeline(SAMPLE_COL)\n",
    "\n",
    "train_and_test.test_using_kfold(X, y, clf)\n",
    "\n",
    "logger.info(\"Finished in {0:.2f} seconds\".format(time.time() - start_time))"
   ]
  },
  {
   "cell_type": "code",
   "execution_count": null,
   "metadata": {
    "collapsed": true
   },
   "outputs": [],
   "source": []
  }
 ],
 "metadata": {
  "kernelspec": {
   "display_name": "Python 2",
   "language": "python",
   "name": "python2"
  },
  "language_info": {
   "codemirror_mode": {
    "name": "ipython",
    "version": 2
   },
   "file_extension": ".py",
   "mimetype": "text/x-python",
   "name": "python",
   "nbconvert_exporter": "python",
   "pygments_lexer": "ipython2",
   "version": "2.7.13"
  }
 },
 "nbformat": 4,
 "nbformat_minor": 0
}
